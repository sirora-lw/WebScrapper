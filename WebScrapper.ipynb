{
 "cells": [
  {
   "cell_type": "markdown",
   "id": "15a16ea4",
   "metadata": {},
   "source": [
    "# Web Scrapping"
   ]
  },
  {
   "cell_type": "code",
   "execution_count": 8,
   "id": "96147c72",
   "metadata": {},
   "outputs": [],
   "source": [
    "# Importing Libraries\n",
    "from bs4 import BeautifulSoup\n",
    "import requests\n",
    "from csv import writer"
   ]
  },
  {
   "cell_type": "code",
   "execution_count": 20,
   "id": "d690050e",
   "metadata": {},
   "outputs": [],
   "source": [
    "# Setting Variables\n",
    "urlEng = \"https://wol.jw.org/en/wol/h/r1/lp-e\"\n",
    "urlSho = \"https://wol.jw.org/sn/wol/h/r45/lp-ca\"\n",
    "pageEng = requests.get(urlEng)\n",
    "pageSho = requests.get(urlSho)"
   ]
  },
  {
   "cell_type": "code",
   "execution_count": 21,
   "id": "0f0cf7ab",
   "metadata": {},
   "outputs": [
    {
     "name": "stdout",
     "output_type": "stream",
     "text": [
      "<Response [200]>\n"
     ]
    }
   ],
   "source": [
    "print(pageEng)"
   ]
  },
  {
   "cell_type": "code",
   "execution_count": 22,
   "id": "e2caa51e",
   "metadata": {},
   "outputs": [
    {
     "name": "stdout",
     "output_type": "stream",
     "text": [
      "<Response [200]>\n"
     ]
    }
   ],
   "source": [
    "print(pageSho)"
   ]
  },
  {
   "cell_type": "code",
   "execution_count": 23,
   "id": "5f0c9941",
   "metadata": {},
   "outputs": [],
   "source": [
    "soupEng = BeautifulSoup(pageEng.content, \"html.parser\")\n",
    "soupSho = BeautifulSoup(pageSho.content, \"html.parser\")"
   ]
  },
  {
   "cell_type": "code",
   "execution_count": 24,
   "id": "daee8573",
   "metadata": {},
   "outputs": [],
   "source": [
    "# Target Tags\n",
    "lists_navTitleEng = soupEng.find_all(\"span\", class_=\"navTitle\")\n",
    "lists_navTitleSho = soupSho.find_all(\"span\", class_=\"navTitle\")"
   ]
  },
  {
   "cell_type": "code",
   "execution_count": 25,
   "id": "0947e7bb",
   "metadata": {},
   "outputs": [],
   "source": [
    "engText = []\n",
    "shoText = []\n",
    "eng_sho =[]\n",
    "test = [\"\", \"kuedza\"]\n",
    "\n",
    "\n",
    "    \n",
    "\n",
    "with open(\"eng.csv\", \"w\", encoding=\"utf8\",newline=\"\") as f:\n",
    "    thewriterE = writer(f)\n",
    "    headerE = [\"English\"]\n",
    "    thewriterE.writerow(headerE)\n",
    "    \n",
    "\n",
    "    for list_navTitleEng in lists_navTitleEng:\n",
    "        engText = [list_navTitleEng.text.replace(\"\\n\", \" \")]\n",
    "        thewriterE.writerow(engText)\n",
    "        \n",
    "with open(\"sho.csv\", \"w\", encoding=\"utf8\",newline=\"\") as f:\n",
    "    thewriterS = writer(f)\n",
    "    headerS = [\"Shona\"]\n",
    "    thewriterS.writerow(headerS)\n",
    "    \n",
    "    for list_navTitleSho in lists_navTitleSho:\n",
    "        shoText = [list_navTitleSho.text.replace(\"\\n\", \" \")]\n",
    "        thewriterS.writerow(shoText)\n",
    "    \n",
    "        \n",
    "   \n",
    "    \n",
    "    "
   ]
  },
  {
   "cell_type": "code",
   "execution_count": null,
   "id": "7dddfae9",
   "metadata": {},
   "outputs": [],
   "source": []
  },
  {
   "cell_type": "code",
   "execution_count": null,
   "id": "9c25a83b",
   "metadata": {},
   "outputs": [],
   "source": []
  }
 ],
 "metadata": {
  "kernelspec": {
   "display_name": "Python 3 (ipykernel)",
   "language": "python",
   "name": "python3"
  },
  "language_info": {
   "codemirror_mode": {
    "name": "ipython",
    "version": 3
   },
   "file_extension": ".py",
   "mimetype": "text/x-python",
   "name": "python",
   "nbconvert_exporter": "python",
   "pygments_lexer": "ipython3",
   "version": "3.9.7"
  }
 },
 "nbformat": 4,
 "nbformat_minor": 5
}
