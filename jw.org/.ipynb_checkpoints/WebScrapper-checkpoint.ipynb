{
 "cells": [
  {
   "cell_type": "markdown",
   "id": "15a16ea4",
   "metadata": {},
   "source": [
    "# Web Scrapping"
   ]
  },
  {
   "cell_type": "code",
   "execution_count": 1,
   "id": "96147c72",
   "metadata": {},
   "outputs": [],
   "source": [
    "# Importing Libraries\n",
    "from bs4 import BeautifulSoup\n",
    "import requests\n",
    "from csv import writer"
   ]
  },
  {
   "cell_type": "code",
   "execution_count": 2,
   "id": "d690050e",
   "metadata": {},
   "outputs": [],
   "source": [
    "# Setting Variables\n",
    "urlEng = \"https://www.jw.org/en/\"\n",
    "urlSho = \"https://www.jw.org/sn/\"\n",
    "pageEng = requests.get(urlEng)\n",
    "pageSho = requests.get(urlSho)"
   ]
  },
  {
   "cell_type": "code",
   "execution_count": 3,
   "id": "0f0cf7ab",
   "metadata": {},
   "outputs": [
    {
     "name": "stdout",
     "output_type": "stream",
     "text": [
      "<Response [200]>\n"
     ]
    }
   ],
   "source": [
    "print(pageEng)"
   ]
  },
  {
   "cell_type": "code",
   "execution_count": 4,
   "id": "e2caa51e",
   "metadata": {},
   "outputs": [
    {
     "name": "stdout",
     "output_type": "stream",
     "text": [
      "<Response [200]>\n"
     ]
    }
   ],
   "source": [
    "print(pageSho)"
   ]
  },
  {
   "cell_type": "code",
   "execution_count": 5,
   "id": "5f0c9941",
   "metadata": {},
   "outputs": [],
   "source": [
    "soupEng = BeautifulSoup(pageEng.content, \"html.parser\")\n",
    "soupSho = BeautifulSoup(pageSho.content, \"html.parser\")"
   ]
  },
  {
   "cell_type": "code",
   "execution_count": 6,
   "id": "daee8573",
   "metadata": {},
   "outputs": [],
   "source": [
    "# Target Tags\n",
    "lists_navTitleEng = soupEng.find_all(\"span\", class_=\"navTitle\")\n",
    "lists_navTitleSho = soupSho.find_all(\"span\", class_=\"navTitle\")"
   ]
  },
  {
   "cell_type": "code",
   "execution_count": 52,
   "id": "e8b9b83f",
   "metadata": {
    "scrolled": true
   },
   "outputs": [
    {
     "name": "stdout",
     "output_type": "stream",
     "text": [
      "[<span class=\"navTitle\">\n",
      "                           HOME\n",
      "                        </span>, <span class=\"navTitle\" id=\"navTitle1011201\">\n",
      "         BIBLE TEACHINGS\n",
      "      </span>, <span class=\"navTitle\">\n",
      "                  Bible Questions Answered\n",
      "               </span>, <span class=\"navTitle\">\n",
      "                  Bible Verses Explained\n",
      "               </span>, <span class=\"navTitle\">\n",
      "                  Bible Study Course\n",
      "               </span>, <span class=\"navTitle\">\n",
      "                  Bible Study Tools\n",
      "               </span>, <span class=\"navTitle\">\n",
      "                  Online Lessons\n",
      "               </span>, <span class=\"navTitle\">\n",
      "                  Peace &amp; Happiness\n",
      "               </span>, <span class=\"navTitle\">\n",
      "                  Marriage &amp; Family\n",
      "               </span>, <span class=\"navTitle\">\n",
      "                  Teenagers\n",
      "               </span>, <span class=\"navTitle\">\n",
      "                  Children\n",
      "               </span>, <span class=\"navTitle\">\n",
      "                  Faith in God\n",
      "               </span>, <span class=\"navTitle\">\n",
      "                  Science &amp; the Bible\n",
      "               </span>, <span class=\"navTitle\">\n",
      "                  History &amp; the Bible\n",
      "               </span>, <span class=\"navTitle\" id=\"navTitle1011207\">\n",
      "         LIBRARY\n",
      "      </span>, <span class=\"navTitle\">\n",
      "                  Online Bible\n",
      "               </span>, <span class=\"navTitle\">\n",
      "                  Magazines\n",
      "               </span>, <span class=\"navTitle\">\n",
      "                  Books &amp; Brochures\n",
      "               </span>, <span class=\"navTitle\">\n",
      "                  Article Series\n",
      "               </span>, <span class=\"navTitle\">\n",
      "                  Meeting Workbooks\n",
      "               </span>, <span class=\"navTitle\">\n",
      "                  Kingdom Ministry\n",
      "               </span>, <span class=\"navTitle\">\n",
      "                  Music\n",
      "               </span>, <span class=\"navTitle\">\n",
      "                  Audio Dramas\n",
      "               </span>, <span class=\"navTitle\">\n",
      "                  Dramatic Bible Readings\n",
      "               </span>, <span class=\"navTitle\">\n",
      "                  Videos\n",
      "               </span>, <span class=\"navTitle\">\n",
      "                     JW Broadcasting<sup>®</sup>\n",
      "</span>, <span class=\"navTitle\">\n",
      "                     Online Library\n",
      "                  </span>, <span class=\"navTitle\" id=\"navTitle1011216\">\n",
      "         NEWSROOM\n",
      "      </span>, <span class=\"navTitle\">\n",
      "                  JW News\n",
      "               </span>, <span class=\"navTitle\">\n",
      "                  Newsroom for Journalists\n",
      "               </span>, <span class=\"navTitle\">\n",
      "                  Legal Developments\n",
      "               </span>, <span class=\"navTitle\" id=\"navTitle1011228\">\n",
      "         ABOUT US\n",
      "      </span>, <span class=\"navTitle\">\n",
      "                  Frequently Asked Questions\n",
      "               </span>, <span class=\"navTitle\">\n",
      "                  Request a Visit\n",
      "               </span>, <span class=\"navTitle\">\n",
      "                  Meetings\n",
      "               </span>, <span class=\"navTitle\">\n",
      "                  Memorial\n",
      "               </span>, <span class=\"navTitle\">\n",
      "                  Conventions\n",
      "               </span>, <span class=\"navTitle\">\n",
      "                  Activities\n",
      "               </span>, <span class=\"navTitle\">\n",
      "                  Experiences\n",
      "               </span>, <span class=\"navTitle\">\n",
      "                  Around the World\n",
      "               </span>, <span class=\"navTitle\">\n",
      "                  Bethel Tours\n",
      "               </span>, <span class=\"navTitle\">\n",
      "                  Contact Us\n",
      "               </span>, <span class=\"navTitle\">\n",
      "                  Donations\n",
      "               </span>, <span class=\"navTitle\">\n",
      "                        LOG IN\n",
      "                     </span>]\n"
     ]
    }
   ],
   "source": [
    "print(lists_navTitleEng)"
   ]
  },
  {
   "cell_type": "code",
   "execution_count": 53,
   "id": "dc328f0c",
   "metadata": {},
   "outputs": [
    {
     "name": "stdout",
     "output_type": "stream",
     "text": [
      "[<span class=\"navTitle\">\n",
      "                           PEJI YEKUTANGA\n",
      "                        </span>, <span class=\"navTitle\" id=\"navTitle1011201\">\n",
      "         ZVINODZIDZISWA NEBHAIBHERI\n",
      "      </span>, <span class=\"navTitle\">\n",
      "                  Mibvunzo yeBhaibheri Inopindurwa\n",
      "               </span>, <span class=\"navTitle\">\n",
      "                  Kutsanangurwa Kwemavhesi\n",
      "               </span>, <span class=\"navTitle\">\n",
      "                  Kosi Yekudzidza Bhaibheri\n",
      "               </span>, <span class=\"navTitle\">\n",
      "                  Zvekushandisa Pakudzidza Bhaibheri\n",
      "               </span>, <span class=\"navTitle\">\n",
      "                  Rugare Uye Mufaro\n",
      "               </span>, <span class=\"navTitle\">\n",
      "                  Wanano Uye Mhuri\n",
      "               </span>, <span class=\"navTitle\">\n",
      "                  Vari Kuyaruka\n",
      "               </span>, <span class=\"navTitle\">\n",
      "                  Vana\n",
      "               </span>, <span class=\"navTitle\">\n",
      "                  Kutenda Muna Mwari\n",
      "               </span>, <span class=\"navTitle\">\n",
      "                  Sainzi neBhaibheri\n",
      "               </span>, <span class=\"navTitle\">\n",
      "                  Nhoroondo Dzekare Uye Bhaibheri\n",
      "               </span>, <span class=\"navTitle\" id=\"navTitle1011207\">\n",
      "         RAIBHURARI\n",
      "      </span>, <span class=\"navTitle\">\n",
      "                  Bhaibheri repaIndaneti\n",
      "               </span>, <span class=\"navTitle\">\n",
      "                  Magazini\n",
      "               </span>, <span class=\"navTitle\">\n",
      "                  Mabhuku Uye Mabhurocha\n",
      "               </span>, <span class=\"navTitle\">\n",
      "                  Nyaya Dzinogara Dzichibuda\n",
      "               </span>, <span class=\"navTitle\">\n",
      "                  Purogiramu Dzezvekuita Uye Zvichadzidzwa\n",
      "               </span>, <span class=\"navTitle\">\n",
      "                  Ushumiri hwoUmambo\n",
      "               </span>, <span class=\"navTitle\">\n",
      "                  Mimhanzi\n",
      "               </span>, <span class=\"navTitle\">\n",
      "                  Mitambo yekuteerera\n",
      "               </span>, <span class=\"navTitle\">\n",
      "                  Kuverengwa Kwenyaya dzemuBhaibheri Sedziri Kuitika\n",
      "               </span>, <span class=\"navTitle\">\n",
      "                  Mavhidhiyo\n",
      "               </span>, <span class=\"navTitle\">\n",
      "                     JW Broadcasting\n",
      "                  </span>, <span class=\"navTitle\">\n",
      "                     Raibhurari yepaIndaneti\n",
      "                  </span>, <span class=\"navTitle\" id=\"navTitle1011216\">\n",
      "         NHAU\n",
      "      </span>, <span class=\"navTitle\">\n",
      "                  Nhau dzeZvapupu zvaJehovha\n",
      "               </span>, <span class=\"navTitle\">\n",
      "                  Chikamu Chevatori Venhau\n",
      "               </span>, <span class=\"navTitle\">\n",
      "                  Nyaya Dzemumatare\n",
      "               </span>, <span class=\"navTitle\" id=\"navTitle1011228\">\n",
      "         NEZVEDU\n",
      "      </span>, <span class=\"navTitle\">\n",
      "                  Mibvunzo Inonyanya Kubvunzwa\n",
      "               </span>, <span class=\"navTitle\">\n",
      "                  Kumbira Kushanyirwa\n",
      "               </span>, <span class=\"navTitle\">\n",
      "                  Misangano\n",
      "               </span>, <span class=\"navTitle\">\n",
      "                  Chirangaridzo\n",
      "               </span>, <span class=\"navTitle\">\n",
      "                  Magungano\n",
      "               </span>, <span class=\"navTitle\">\n",
      "                  Mabasa\n",
      "               </span>, <span class=\"navTitle\">\n",
      "                  Zvakaitika\n",
      "               </span>, <span class=\"navTitle\">\n",
      "                  Pasi Rese\n",
      "               </span>, <span class=\"navTitle\">\n",
      "                  Kuratidzwa Zvinoitwa paBheteri\n",
      "               </span>, <span class=\"navTitle\">\n",
      "                  Tibatei Pano\n",
      "               </span>, <span class=\"navTitle\">\n",
      "                  Zvipo\n",
      "               </span>, <span class=\"navTitle\">\n",
      "                        PINDA\n",
      "                     </span>]\n"
     ]
    }
   ],
   "source": [
    "print(lists_navTitleSho)"
   ]
  },
  {
   "cell_type": "code",
   "execution_count": null,
   "id": "a3186ebe",
   "metadata": {},
   "outputs": [],
   "source": [
    "\n",
    "    "
   ]
  },
  {
   "cell_type": "code",
   "execution_count": 85,
   "id": "0947e7bb",
   "metadata": {},
   "outputs": [],
   "source": [
    "engText = []\n",
    "shoText = []\n",
    "eng_sho =[]\n",
    "test = [\"\", \"kuedza\"]\n",
    "\n",
    "\n",
    "    \n",
    "\n",
    "with open(\"eng.csv\", \"w\", encoding=\"utf8\",newline=\"\") as f:\n",
    "    thewriterE = writer(f)\n",
    "    headerE = [\"English\"]\n",
    "    thewriterE.writerow(headerE)\n",
    "    \n",
    "\n",
    "    for list_navTitleEng in lists_navTitleEng:\n",
    "        engText = [list_navTitleEng.text.replace(\"\\n\", \" \")]\n",
    "        thewriterE.writerow(engText)\n",
    "        \n",
    "with open(\"sho.csv\", \"w\", encoding=\"utf8\",newline=\"\") as f:\n",
    "    thewriterS = writer(f)\n",
    "    headerS = [\"Shona\"]\n",
    "    thewriterS.writerow(headerS)\n",
    "    \n",
    "    for list_navTitleSho in lists_navTitleSho:\n",
    "        shoText = [list_navTitleSho.text.replace(\"\\n\", \" \")]\n",
    "        thewriterS.writerow(shoText)\n",
    "    \n",
    "        \n",
    "   \n",
    "    \n",
    "    "
   ]
  },
  {
   "cell_type": "code",
   "execution_count": null,
   "id": "7dddfae9",
   "metadata": {},
   "outputs": [],
   "source": []
  },
  {
   "cell_type": "code",
   "execution_count": null,
   "id": "9c25a83b",
   "metadata": {},
   "outputs": [],
   "source": []
  }
 ],
 "metadata": {
  "kernelspec": {
   "display_name": "Python 3 (ipykernel)",
   "language": "python",
   "name": "python3"
  },
  "language_info": {
   "codemirror_mode": {
    "name": "ipython",
    "version": 3
   },
   "file_extension": ".py",
   "mimetype": "text/x-python",
   "name": "python",
   "nbconvert_exporter": "python",
   "pygments_lexer": "ipython3",
   "version": "3.9.7"
  }
 },
 "nbformat": 4,
 "nbformat_minor": 5
}
